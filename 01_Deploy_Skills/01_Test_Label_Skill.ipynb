{
 "cells": [
  {
   "cell_type": "markdown",
   "metadata": {},
   "source": [
    "# Test Label Skill\n",
    "---\n",
    "\n",
    "### Prerequisites\n",
    "Follow the instructions in the README to build and deploy the skill before running this notebook.\n",
    "\n",
    "## 1.0 Test the Skill\n",
    "Execute the cells in this notebook to test your skill. Set the ```webapp_URL``` to the URL of your deployed skill"
   ]
  },
  {
   "cell_type": "code",
   "execution_count": 1,
   "metadata": {},
   "outputs": [],
   "source": [
    "import requests\n",
    "import json\n",
    "\n",
    "webapp_URL = \"https://XXXX.azurewebsites.net\""
   ]
  },
  {
   "cell_type": "code",
   "execution_count": 2,
   "metadata": {},
   "outputs": [],
   "source": [
    "endpoint = f'{webapp_URL}/label'\n",
    "\n",
    "body = {\n",
    "    \"values\": [\n",
    "        {\n",
    "            \"recordId\": \"0\",\n",
    "            \"data\": {\n",
    "                \"doc\": \"An access token contains claims that you can use in Azure Active Directory B2C.\"\n",
    "            }\n",
    "        }\n",
    "    ]\n",
    "}\n",
    "\n",
    "headers = {'Content-Type': 'application/json'}"
   ]
  },
  {
   "cell_type": "code",
   "execution_count": 3,
   "metadata": {},
   "outputs": [
    {
     "name": "stdout",
     "output_type": "stream",
     "text": [
      "<Response [200]>\n",
      "{\n",
      "  \"values\": [\n",
      "    {\n",
      "      \"data\": {\n",
      "        \"result\": [\n",
      "          {\n",
      "            \"annotations\": [\n",
      "              {\n",
      "                \"POS\": \"DT\",\n",
      "                \"label\": \"O\",\n",
      "                \"token\": \"An\"\n",
      "              },\n",
      "              {\n",
      "                \"POS\": \"NN\",\n",
      "                \"label\": \"O\",\n",
      "                \"token\": \"access\"\n",
      "              },\n",
      "              {\n",
      "                \"POS\": \"VBD\",\n",
      "                \"label\": \"O\",\n",
      "                \"token\": \"token\"\n",
      "              },\n",
      "              {\n",
      "                \"POS\": \"VBZ\",\n",
      "                \"label\": \"O\",\n",
      "                \"token\": \"contains\"\n",
      "              },\n",
      "              {\n",
      "                \"POS\": \"NNS\",\n",
      "                \"label\": \"O\",\n",
      "                \"token\": \"claims\"\n",
      "              },\n",
      "              {\n",
      "                \"POS\": \"IN\",\n",
      "                \"label\": \"O\",\n",
      "                \"token\": \"that\"\n",
      "              },\n",
      "              {\n",
      "                \"POS\": \"PRP\",\n",
      "                \"label\": \"O\",\n",
      "                \"token\": \"you\"\n",
      "              },\n",
      "              {\n",
      "                \"POS\": \"MD\",\n",
      "                \"label\": \"O\",\n",
      "                \"token\": \"can\"\n",
      "              },\n",
      "              {\n",
      "                \"POS\": \"VB\",\n",
      "                \"label\": \"O\",\n",
      "                \"token\": \"use\"\n",
      "              },\n",
      "              {\n",
      "                \"POS\": \"IN\",\n",
      "                \"label\": \"O\",\n",
      "                \"token\": \"in\"\n",
      "              },\n",
      "              {\n",
      "                \"POS\": \"NNP\",\n",
      "                \"label\": \"O\",\n",
      "                \"token\": \"Azure\"\n",
      "              },\n",
      "              {\n",
      "                \"POS\": \"NNP\",\n",
      "                \"label\": \"B-Product\",\n",
      "                \"token\": \"Active\"\n",
      "              },\n",
      "              {\n",
      "                \"POS\": \"NNP\",\n",
      "                \"label\": \"I-Product\",\n",
      "                \"token\": \"Directory\"\n",
      "              },\n",
      "              {\n",
      "                \"POS\": \"NNP\",\n",
      "                \"label\": \"O\",\n",
      "                \"token\": \"B2C.\"\n",
      "              }\n",
      "            ],\n",
      "            \"sentence\": \"An access token contains claims that you can use in Azure Active Directory B2C.\",\n",
      "            \"sentence_count\": 0\n",
      "          }\n",
      "        ]\n",
      "      },\n",
      "      \"recordId\": \"0\"\n",
      "    }\n",
      "  ]\n",
      "}\n"
     ]
    }
   ],
   "source": [
    "r = requests.post(endpoint, data=json.dumps(body),  headers=headers)\n",
    "print(r)\n",
    "response = r.json()\n",
    "print(json.dumps(response, indent=2))"
   ]
  },
  {
   "cell_type": "markdown",
   "metadata": {},
   "source": [
    "### Next Steps\n",
    "Now that you've successfully tested the skill, you're ready to integrate it with Cognitive Search in the next folder."
   ]
  }
 ],
 "metadata": {
  "kernelspec": {
   "display_name": "Python 3",
   "language": "python",
   "name": "python3"
  },
  "language_info": {
   "codemirror_mode": {
    "name": "ipython",
    "version": 3
   },
   "file_extension": ".py",
   "mimetype": "text/x-python",
   "name": "python",
   "nbconvert_exporter": "python",
   "pygments_lexer": "ipython3",
   "version": "3.6.5"
  }
 },
 "nbformat": 4,
 "nbformat_minor": 2
}
